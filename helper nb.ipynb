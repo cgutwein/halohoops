{
 "cells": [
  {
   "cell_type": "code",
   "execution_count": 1,
   "metadata": {},
   "outputs": [],
   "source": [
    "from halohoops import haloHoops\n",
    "import matplotlib.pyplot as plt\n",
    "import numpy as np\n",
    "import pandas as pd\n",
    "from sklearn.linear_model import LogisticRegression\n",
    "from sklearn.metrics import log_loss\n",
    "from sklearn.model_selection import RandomizedSearchCV, train_test_split\n",
    "from sklearn.preprocessing import StandardScaler\n",
    "from xgboost import XGBClassifier"
   ]
  },
  {
   "cell_type": "code",
   "execution_count": 6,
   "metadata": {},
   "outputs": [
    {
     "name": "stdout",
     "output_type": "stream",
     "text": [
      "Data Loaded successfully.\n",
      "Generating training data frame.\n",
      "Generating test data frame.\n"
     ]
    }
   ],
   "source": [
    "c = haloHoops(1, w=True)\n",
    "c.get_data()"
   ]
  },
  {
   "cell_type": "markdown",
   "metadata": {},
   "source": [
    "# Regular Season Data"
   ]
  },
  {
   "cell_type": "code",
   "execution_count": 7,
   "metadata": {},
   "outputs": [
    {
     "data": {
      "text/html": [
       "<div>\n",
       "<style scoped>\n",
       "    .dataframe tbody tr th:only-of-type {\n",
       "        vertical-align: middle;\n",
       "    }\n",
       "\n",
       "    .dataframe tbody tr th {\n",
       "        vertical-align: top;\n",
       "    }\n",
       "\n",
       "    .dataframe thead th {\n",
       "        text-align: right;\n",
       "    }\n",
       "</style>\n",
       "<table border=\"1\" class=\"dataframe\">\n",
       "  <thead>\n",
       "    <tr style=\"text-align: right;\">\n",
       "      <th></th>\n",
       "      <th>Season</th>\n",
       "      <th>TeamID_1</th>\n",
       "      <th>TeamID_2</th>\n",
       "      <th>Result</th>\n",
       "      <th>t1_seed</th>\n",
       "      <th>t1_Wavg</th>\n",
       "      <th>t1_margin</th>\n",
       "      <th>t2_seed</th>\n",
       "      <th>t2_Wavg</th>\n",
       "      <th>t2_margin</th>\n",
       "    </tr>\n",
       "  </thead>\n",
       "  <tbody>\n",
       "    <tr>\n",
       "      <th>0</th>\n",
       "      <td>2003</td>\n",
       "      <td>3130</td>\n",
       "      <td>3330</td>\n",
       "      <td>1</td>\n",
       "      <td>5</td>\n",
       "      <td>0.714286</td>\n",
       "      <td>10.821429</td>\n",
       "      <td>12</td>\n",
       "      <td>0.677419</td>\n",
       "      <td>8.483871</td>\n",
       "    </tr>\n",
       "    <tr>\n",
       "      <th>1</th>\n",
       "      <td>2003</td>\n",
       "      <td>3160</td>\n",
       "      <td>3140</td>\n",
       "      <td>1</td>\n",
       "      <td>6</td>\n",
       "      <td>0.758621</td>\n",
       "      <td>8.413793</td>\n",
       "      <td>11</td>\n",
       "      <td>0.633333</td>\n",
       "      <td>6.466667</td>\n",
       "    </tr>\n",
       "    <tr>\n",
       "      <th>2</th>\n",
       "      <td>2003</td>\n",
       "      <td>3208</td>\n",
       "      <td>3150</td>\n",
       "      <td>1</td>\n",
       "      <td>5</td>\n",
       "      <td>0.678571</td>\n",
       "      <td>12.928571</td>\n",
       "      <td>12</td>\n",
       "      <td>0.724138</td>\n",
       "      <td>7.034483</td>\n",
       "    </tr>\n",
       "    <tr>\n",
       "      <th>3</th>\n",
       "      <td>2003</td>\n",
       "      <td>3261</td>\n",
       "      <td>3402</td>\n",
       "      <td>1</td>\n",
       "      <td>1</td>\n",
       "      <td>0.900000</td>\n",
       "      <td>18.500000</td>\n",
       "      <td>16</td>\n",
       "      <td>0.580645</td>\n",
       "      <td>-0.161290</td>\n",
       "    </tr>\n",
       "    <tr>\n",
       "      <th>4</th>\n",
       "      <td>2003</td>\n",
       "      <td>3278</td>\n",
       "      <td>3408</td>\n",
       "      <td>1</td>\n",
       "      <td>6</td>\n",
       "      <td>0.821429</td>\n",
       "      <td>14.000000</td>\n",
       "      <td>11</td>\n",
       "      <td>0.678571</td>\n",
       "      <td>8.821429</td>\n",
       "    </tr>\n",
       "  </tbody>\n",
       "</table>\n",
       "</div>"
      ],
      "text/plain": [
       "   Season  TeamID_1  TeamID_2  Result  t1_seed   t1_Wavg  t1_margin  t2_seed  \\\n",
       "0    2003      3130      3330       1        5  0.714286  10.821429       12   \n",
       "1    2003      3160      3140       1        6  0.758621   8.413793       11   \n",
       "2    2003      3208      3150       1        5  0.678571  12.928571       12   \n",
       "3    2003      3261      3402       1        1  0.900000  18.500000       16   \n",
       "4    2003      3278      3408       1        6  0.821429  14.000000       11   \n",
       "\n",
       "    t2_Wavg  t2_margin  \n",
       "0  0.677419   8.483871  \n",
       "1  0.633333   6.466667  \n",
       "2  0.724138   7.034483  \n",
       "3  0.580645  -0.161290  \n",
       "4  0.678571   8.821429  "
      ]
     },
     "execution_count": 7,
     "metadata": {},
     "output_type": "execute_result"
    }
   ],
   "source": [
    "c.df_train.head()"
   ]
  },
  {
   "cell_type": "code",
   "execution_count": 10,
   "metadata": {},
   "outputs": [
    {
     "data": {
      "text/html": [
       "<div>\n",
       "<style scoped>\n",
       "    .dataframe tbody tr th:only-of-type {\n",
       "        vertical-align: middle;\n",
       "    }\n",
       "\n",
       "    .dataframe tbody tr th {\n",
       "        vertical-align: top;\n",
       "    }\n",
       "\n",
       "    .dataframe thead th {\n",
       "        text-align: right;\n",
       "    }\n",
       "</style>\n",
       "<table border=\"1\" class=\"dataframe\">\n",
       "  <thead>\n",
       "    <tr style=\"text-align: right;\">\n",
       "      <th></th>\n",
       "      <th>ID</th>\n",
       "      <th>Season</th>\n",
       "      <th>t1_id</th>\n",
       "      <th>t2_id</th>\n",
       "      <th>t1_kpom</th>\n",
       "      <th>t2_kpom</th>\n",
       "      <th>t1_seed</th>\n",
       "      <th>t2_seed</th>\n",
       "      <th>MaxWeek</th>\n",
       "      <th>t1_Wavg</th>\n",
       "      <th>t1_margin</th>\n",
       "      <th>t2_Wavg</th>\n",
       "      <th>t2_margin</th>\n",
       "    </tr>\n",
       "  </thead>\n",
       "  <tbody>\n",
       "    <tr>\n",
       "      <th>0</th>\n",
       "      <td>2016_1112_1114</td>\n",
       "      <td>2016</td>\n",
       "      <td>1112</td>\n",
       "      <td>1114</td>\n",
       "      <td>16</td>\n",
       "      <td>47</td>\n",
       "      <td>6</td>\n",
       "      <td>12</td>\n",
       "      <td>133</td>\n",
       "      <td>0.757576</td>\n",
       "      <td>12.212121</td>\n",
       "      <td>0.870968</td>\n",
       "      <td>9.935484</td>\n",
       "    </tr>\n",
       "    <tr>\n",
       "      <th>1</th>\n",
       "      <td>2016_1112_1122</td>\n",
       "      <td>2016</td>\n",
       "      <td>1112</td>\n",
       "      <td>1122</td>\n",
       "      <td>16</td>\n",
       "      <td>211</td>\n",
       "      <td>6</td>\n",
       "      <td>16</td>\n",
       "      <td>133</td>\n",
       "      <td>0.757576</td>\n",
       "      <td>12.212121</td>\n",
       "      <td>0.484848</td>\n",
       "      <td>-2.363636</td>\n",
       "    </tr>\n",
       "    <tr>\n",
       "      <th>2</th>\n",
       "      <td>2016_1112_1124</td>\n",
       "      <td>2016</td>\n",
       "      <td>1112</td>\n",
       "      <td>1124</td>\n",
       "      <td>16</td>\n",
       "      <td>24</td>\n",
       "      <td>6</td>\n",
       "      <td>5</td>\n",
       "      <td>133</td>\n",
       "      <td>0.757576</td>\n",
       "      <td>12.212121</td>\n",
       "      <td>0.656250</td>\n",
       "      <td>6.687500</td>\n",
       "    </tr>\n",
       "    <tr>\n",
       "      <th>3</th>\n",
       "      <td>2016_1112_1138</td>\n",
       "      <td>2016</td>\n",
       "      <td>1112</td>\n",
       "      <td>1138</td>\n",
       "      <td>16</td>\n",
       "      <td>130</td>\n",
       "      <td>6</td>\n",
       "      <td>14</td>\n",
       "      <td>133</td>\n",
       "      <td>0.757576</td>\n",
       "      <td>12.212121</td>\n",
       "      <td>0.575758</td>\n",
       "      <td>0.666667</td>\n",
       "    </tr>\n",
       "    <tr>\n",
       "      <th>4</th>\n",
       "      <td>2016_1112_1139</td>\n",
       "      <td>2016</td>\n",
       "      <td>1112</td>\n",
       "      <td>1139</td>\n",
       "      <td>16</td>\n",
       "      <td>40</td>\n",
       "      <td>6</td>\n",
       "      <td>9</td>\n",
       "      <td>133</td>\n",
       "      <td>0.757576</td>\n",
       "      <td>12.212121</td>\n",
       "      <td>0.677419</td>\n",
       "      <td>9.419355</td>\n",
       "    </tr>\n",
       "  </tbody>\n",
       "</table>\n",
       "</div>"
      ],
      "text/plain": [
       "               ID  Season  t1_id  t2_id  t1_kpom  t2_kpom  t1_seed  t2_seed  \\\n",
       "0  2016_1112_1114    2016   1112   1114       16       47        6       12   \n",
       "1  2016_1112_1122    2016   1112   1122       16      211        6       16   \n",
       "2  2016_1112_1124    2016   1112   1124       16       24        6        5   \n",
       "3  2016_1112_1138    2016   1112   1138       16      130        6       14   \n",
       "4  2016_1112_1139    2016   1112   1139       16       40        6        9   \n",
       "\n",
       "   MaxWeek   t1_Wavg  t1_margin   t2_Wavg  t2_margin  \n",
       "0      133  0.757576  12.212121  0.870968   9.935484  \n",
       "1      133  0.757576  12.212121  0.484848  -2.363636  \n",
       "2      133  0.757576  12.212121  0.656250   6.687500  \n",
       "3      133  0.757576  12.212121  0.575758   0.666667  \n",
       "4      133  0.757576  12.212121  0.677419   9.419355  "
      ]
     },
     "execution_count": 10,
     "metadata": {},
     "output_type": "execute_result"
    }
   ],
   "source": [
    "c.test_data.head()"
   ]
  },
  {
   "cell_type": "code",
   "execution_count": 15,
   "metadata": {},
   "outputs": [
    {
     "data": {
      "text/html": [
       "<div>\n",
       "<style scoped>\n",
       "    .dataframe tbody tr th:only-of-type {\n",
       "        vertical-align: middle;\n",
       "    }\n",
       "\n",
       "    .dataframe tbody tr th {\n",
       "        vertical-align: top;\n",
       "    }\n",
       "\n",
       "    .dataframe thead th {\n",
       "        text-align: right;\n",
       "    }\n",
       "</style>\n",
       "<table border=\"1\" class=\"dataframe\">\n",
       "  <thead>\n",
       "    <tr style=\"text-align: right;\">\n",
       "      <th></th>\n",
       "      <th>Season</th>\n",
       "      <th>TeamID_1</th>\n",
       "      <th>TeamID_2</th>\n",
       "      <th>Result</th>\n",
       "      <th>MaxWeek</th>\n",
       "      <th>t1_kpom</th>\n",
       "      <th>t2_kpom</th>\n",
       "      <th>t1_seed</th>\n",
       "      <th>t2_seed</th>\n",
       "      <th>t1_Wavg</th>\n",
       "    </tr>\n",
       "  </thead>\n",
       "  <tbody>\n",
       "    <tr>\n",
       "      <th>0</th>\n",
       "      <td>2003</td>\n",
       "      <td>1421</td>\n",
       "      <td>1411</td>\n",
       "      <td>1</td>\n",
       "      <td>133</td>\n",
       "      <td>273</td>\n",
       "      <td>268</td>\n",
       "      <td>16</td>\n",
       "      <td>16</td>\n",
       "      <td>0.448276</td>\n",
       "    </tr>\n",
       "    <tr>\n",
       "      <th>1</th>\n",
       "      <td>2003</td>\n",
       "      <td>1112</td>\n",
       "      <td>1436</td>\n",
       "      <td>1</td>\n",
       "      <td>133</td>\n",
       "      <td>3</td>\n",
       "      <td>144</td>\n",
       "      <td>1</td>\n",
       "      <td>16</td>\n",
       "      <td>0.892857</td>\n",
       "    </tr>\n",
       "    <tr>\n",
       "      <th>2</th>\n",
       "      <td>2003</td>\n",
       "      <td>1113</td>\n",
       "      <td>1272</td>\n",
       "      <td>1</td>\n",
       "      <td>133</td>\n",
       "      <td>32</td>\n",
       "      <td>20</td>\n",
       "      <td>10</td>\n",
       "      <td>7</td>\n",
       "      <td>0.620690</td>\n",
       "    </tr>\n",
       "    <tr>\n",
       "      <th>3</th>\n",
       "      <td>2003</td>\n",
       "      <td>1141</td>\n",
       "      <td>1166</td>\n",
       "      <td>1</td>\n",
       "      <td>133</td>\n",
       "      <td>50</td>\n",
       "      <td>27</td>\n",
       "      <td>11</td>\n",
       "      <td>6</td>\n",
       "      <td>0.793103</td>\n",
       "    </tr>\n",
       "    <tr>\n",
       "      <th>4</th>\n",
       "      <td>2003</td>\n",
       "      <td>1143</td>\n",
       "      <td>1301</td>\n",
       "      <td>1</td>\n",
       "      <td>133</td>\n",
       "      <td>40</td>\n",
       "      <td>48</td>\n",
       "      <td>8</td>\n",
       "      <td>9</td>\n",
       "      <td>0.724138</td>\n",
       "    </tr>\n",
       "  </tbody>\n",
       "</table>\n",
       "</div>"
      ],
      "text/plain": [
       "   Season  TeamID_1  TeamID_2  Result  MaxWeek  t1_kpom  t2_kpom  t1_seed  \\\n",
       "0    2003      1421      1411       1      133      273      268       16   \n",
       "1    2003      1112      1436       1      133        3      144        1   \n",
       "2    2003      1113      1272       1      133       32       20       10   \n",
       "3    2003      1141      1166       1      133       50       27       11   \n",
       "4    2003      1143      1301       1      133       40       48        8   \n",
       "\n",
       "   t2_seed   t1_Wavg  \n",
       "0       16  0.448276  \n",
       "1       16  0.892857  \n",
       "2        7  0.620690  \n",
       "3        6  0.793103  \n",
       "4        9  0.724138  "
      ]
     },
     "execution_count": 15,
     "metadata": {},
     "output_type": "execute_result"
    }
   ],
   "source": [
    "m = LogisticRegression()\n",
    "m.fit(X,y)"
   ]
  },
  {
   "cell_type": "code",
   "execution_count": 8,
   "metadata": {},
   "outputs": [
    {
     "name": "stdout",
     "output_type": "stream",
     "text": [
      "Baseline logistic model trained, predictions made...\n",
      "Baseline log-loss score of 0.56336\n"
     ]
    }
   ],
   "source": [
    "c.train_model()"
   ]
  },
  {
   "cell_type": "code",
   "execution_count": 9,
   "metadata": {},
   "outputs": [],
   "source": [
    "c.create_sub('logistic_added_feat1.csv')"
   ]
  },
  {
   "cell_type": "code",
   "execution_count": 10,
   "metadata": {},
   "outputs": [
    {
     "data": {
      "text/plain": [
       "(array([1503., 1231.,  968.,  769.,  800.,  758.,  738.,  866., 1024.,\n",
       "        1423.]),\n",
       " array([0.00148799, 0.10120889, 0.20092979, 0.30065069, 0.40037159,\n",
       "        0.50009249, 0.59981339, 0.69953429, 0.79925519, 0.89897608,\n",
       "        0.99869698]),\n",
       " <BarContainer object of 10 artists>)"
      ]
     },
     "execution_count": 10,
     "metadata": {},
     "output_type": "execute_result"
    },
    {
     "data": {
      "image/png": "[encoded data removed]",
      "text/plain": [
       "<Figure size 432x288 with 1 Axes>"
      ]
     },
     "metadata": {
      "needs_background": "light"
     },
     "output_type": "display_data"
    }
   ],
   "source": [
    "plt.hist(c.test_preds[:,1])"
   ]
  },
  {
   "cell_type": "code",
   "execution_count": 26,
   "metadata": {},
   "outputs": [
    {
     "name": "stdout",
     "output_type": "stream",
     "text": [
      "Baseline logistic model trained, predictions made...\n",
      "Baseline log-loss score of 0.5\n"
     ]
    }
   ],
   "source": [
    "# get probs for test set\n",
    "# calc score for baseline and test set probs\n",
    "X_test = c.test_data[['Season', 't1_kpom', 't2_kpom', 't1_seed', 't2_seed']]\n",
    "\n",
    "lr_full = LogisticRegression()\n",
    "lr_full.fit(X, y)\n",
    "test_preds = lr_full.predict_proba(X_test)\n",
    "\n",
    "print(\"Baseline logistic model trained, predictions made...\")\n",
    "print(\"Baseline log-loss score of {}\".format(0.56336))\n",
    "c.submission['Pred'] = test_preds[:,1]\n",
    "c.submission.to_csv('./submissions/base_logistic_regression.csv', index=False)"
   ]
  },
  {
   "cell_type": "code",
   "execution_count": 23,
   "metadata": {},
   "outputs": [
    {
     "data": {
      "text/html": [
       "<div>\n",
       "<style scoped>\n",
       "    .dataframe tbody tr th:only-of-type {\n",
       "        vertical-align: middle;\n",
       "    }\n",
       "\n",
       "    .dataframe tbody tr th {\n",
       "        vertical-align: top;\n",
       "    }\n",
       "\n",
       "    .dataframe thead th {\n",
       "        text-align: right;\n",
       "    }\n",
       "</style>\n",
       "<table border=\"1\" class=\"dataframe\">\n",
       "  <thead>\n",
       "    <tr style=\"text-align: right;\">\n",
       "      <th></th>\n",
       "      <th>ID</th>\n",
       "      <th>Season</th>\n",
       "      <th>t1_id</th>\n",
       "      <th>t2_id</th>\n",
       "      <th>t1_kpom</th>\n",
       "      <th>t2_kpom</th>\n",
       "      <th>t1_seed</th>\n",
       "      <th>t2_seed</th>\n",
       "      <th>MaxWeek</th>\n",
       "    </tr>\n",
       "  </thead>\n",
       "  <tbody>\n",
       "    <tr>\n",
       "      <th>0</th>\n",
       "      <td>2016_1112_1114</td>\n",
       "      <td>2016</td>\n",
       "      <td>1112</td>\n",
       "      <td>1114</td>\n",
       "      <td>16</td>\n",
       "      <td>47</td>\n",
       "      <td>6</td>\n",
       "      <td>12</td>\n",
       "      <td>133</td>\n",
       "    </tr>\n",
       "    <tr>\n",
       "      <th>1</th>\n",
       "      <td>2016_1112_1122</td>\n",
       "      <td>2016</td>\n",
       "      <td>1112</td>\n",
       "      <td>1122</td>\n",
       "      <td>16</td>\n",
       "      <td>211</td>\n",
       "      <td>6</td>\n",
       "      <td>16</td>\n",
       "      <td>133</td>\n",
       "    </tr>\n",
       "    <tr>\n",
       "      <th>2</th>\n",
       "      <td>2016_1112_1124</td>\n",
       "      <td>2016</td>\n",
       "      <td>1112</td>\n",
       "      <td>1124</td>\n",
       "      <td>16</td>\n",
       "      <td>24</td>\n",
       "      <td>6</td>\n",
       "      <td>5</td>\n",
       "      <td>133</td>\n",
       "    </tr>\n",
       "    <tr>\n",
       "      <th>3</th>\n",
       "      <td>2016_1112_1138</td>\n",
       "      <td>2016</td>\n",
       "      <td>1112</td>\n",
       "      <td>1138</td>\n",
       "      <td>16</td>\n",
       "      <td>130</td>\n",
       "      <td>6</td>\n",
       "      <td>14</td>\n",
       "      <td>133</td>\n",
       "    </tr>\n",
       "    <tr>\n",
       "      <th>4</th>\n",
       "      <td>2016_1112_1139</td>\n",
       "      <td>2016</td>\n",
       "      <td>1112</td>\n",
       "      <td>1139</td>\n",
       "      <td>16</td>\n",
       "      <td>40</td>\n",
       "      <td>6</td>\n",
       "      <td>9</td>\n",
       "      <td>133</td>\n",
       "    </tr>\n",
       "  </tbody>\n",
       "</table>\n",
       "</div>"
      ],
      "text/plain": [
       "               ID  Season  t1_id  t2_id  t1_kpom  t2_kpom  t1_seed  t2_seed  \\\n",
       "0  2016_1112_1114    2016   1112   1114       16       47        6       12   \n",
       "1  2016_1112_1122    2016   1112   1122       16      211        6       16   \n",
       "2  2016_1112_1124    2016   1112   1124       16       24        6        5   \n",
       "3  2016_1112_1138    2016   1112   1138       16      130        6       14   \n",
       "4  2016_1112_1139    2016   1112   1139       16       40        6        9   \n",
       "\n",
       "   MaxWeek  \n",
       "0      133  \n",
       "1      133  \n",
       "2      133  \n",
       "3      133  \n",
       "4      133  "
      ]
     },
     "execution_count": 23,
     "metadata": {},
     "output_type": "execute_result"
    }
   ],
   "source": [
    "c.test_data.head()"
   ]
  },
  {
   "cell_type": "code",
   "execution_count": 5,
   "metadata": {},
   "outputs": [
    {
     "data": {
      "text/html": [
       "<div>\n",
       "<style scoped>\n",
       "    .dataframe tbody tr th:only-of-type {\n",
       "        vertical-align: middle;\n",
       "    }\n",
       "\n",
       "    .dataframe tbody tr th {\n",
       "        vertical-align: top;\n",
       "    }\n",
       "\n",
       "    .dataframe thead th {\n",
       "        text-align: right;\n",
       "    }\n",
       "</style>\n",
       "<table border=\"1\" class=\"dataframe\">\n",
       "  <thead>\n",
       "    <tr style=\"text-align: right;\">\n",
       "      <th></th>\n",
       "      <th>Season</th>\n",
       "      <th>RankingDayNum</th>\n",
       "      <th>SystemName</th>\n",
       "      <th>TeamID</th>\n",
       "      <th>OrdinalRank</th>\n",
       "    </tr>\n",
       "  </thead>\n",
       "  <tbody>\n",
       "    <tr>\n",
       "      <th>2877880</th>\n",
       "      <td>2016</td>\n",
       "      <td>133</td>\n",
       "      <td>POM</td>\n",
       "      <td>1139</td>\n",
       "      <td>40</td>\n",
       "    </tr>\n",
       "  </tbody>\n",
       "</table>\n",
       "</div>"
      ],
      "text/plain": [
       "         Season  RankingDayNum SystemName  TeamID  OrdinalRank\n",
       "2877880    2016            133        POM    1139           40"
      ]
     },
     "execution_count": 5,
     "metadata": {},
     "output_type": "execute_result"
    }
   ],
   "source": [
    "ords = c.data['ordinals']\n",
    "m1 = ords['Season'] == 2016\n",
    "m2 = ords['RankingDayNum'] == 133\n",
    "m3 = ords['SystemName'] == 'POM'\n",
    "m4 = ords['TeamID'] == 1139\n",
    "ords.loc[m1&m2&m3&m4]"
   ]
  },
  {
   "cell_type": "code",
   "execution_count": 9,
   "metadata": {},
   "outputs": [
    {
     "name": "stdout",
     "output_type": "stream",
     "text": [
      "Data Loaded successfully.\n",
      "Generating training data frame.\n",
      "Generating test data frame.\n",
      "Fitting 3 folds for each of 8 candidates, totalling 24 fits\n",
      "[22:54:19] WARNING: C:\\Users\\Administrator\\workspace\\xgboost-win64_release_1.1.0\\src\\learner.cc:480: \n",
      "Parameters: { silent } might not be used.\n",
      "\n",
      "  This may not be accurate due to some parameters are only used in language bindings but\n",
      "  passed down to XGBoost core.  Or some parameters are not used but slip through this\n",
      "  verification. Please open an issue if you find above cases.\n",
      "\n",
      "\n"
     ]
    },
    {
     "name": "stderr",
     "output_type": "stream",
     "text": [
      "[Parallel(n_jobs=4)]: Done  24 out of  24 | elapsed:   14.3s finished\n",
      "C:\\Users\\Gutwein\\Anaconda3\\lib\\site-packages\\sklearn\\preprocessing\\label.py:95: DataConversionWarning: A column-vector y was passed when a 1d array was expected. Please change the shape of y to (n_samples, ), for example using ravel().\n",
      "  y = column_or_1d(y, warn=True)\n",
      "C:\\Users\\Gutwein\\Anaconda3\\lib\\site-packages\\sklearn\\preprocessing\\label.py:128: DataConversionWarning: A column-vector y was passed when a 1d array was expected. Please change the shape of y to (n_samples, ), for example using ravel().\n",
      "  y = column_or_1d(y, warn=True)\n"
     ]
    },
    {
     "data": {
      "text/plain": [
       "RandomizedSearchCV(cv=None, error_score='raise',\n",
       "          estimator=XGBClassifier(base_score=None, booster=None, colsample_bylevel=None,\n",
       "       colsample_bynode=None, colsample_bytree=None, gamma=None,\n",
       "       gpu_id=None, importance_type='gain', interaction_constraints=None,\n",
       "       learning_rate=None, max_delta_step=None, max_depth=None,\n",
       "       min_child_w...one, silent=True, subsample=None,\n",
       "       tree_method=None, validate_parameters=None, verbosity=None),\n",
       "          fit_params=None, iid=True, n_iter=8, n_jobs=4,\n",
       "          param_distributions={'subsample': [0.5, 0.75, 1], 'max_depth': [1, 2, 5, 10, 20, 50], 'colsample_bytree': [0.5, 0.75, 1.0], 'learning_rate': [0.01, 0.05, 0.1, 0.15, 0.2], 'gamma': [0.1, 0.5, 1, 2, 5], 'n_estimators': [2, 5, 10, 20, 50, 100, 200, 500], 'min_child_weight': [1, 5, 10, 25, 100]},\n",
       "          pre_dispatch='2*n_jobs', random_state=None, refit=True,\n",
       "          return_train_score='warn', scoring='neg_log_loss', verbose=3)"
      ]
     },
     "execution_count": 9,
     "metadata": {},
     "output_type": "execute_result"
    }
   ],
   "source": [
    "M = haloHoops(1)\n",
    "M.get_data()\n",
    "X = M.df_train[['Season', 't1_kpom', 't2_kpom', 't1_seed', 't2_seed']]\n",
    "y = M.df_train[['Result']]\n",
    "\n",
    "tune_params = {\n",
    "    'min_child_weight': [1,5,10,25,100],\n",
    "    'gamma': [0.1, 0.5, 1, 2, 5],\n",
    "    'subsample': [0.5, 0.75, 1],\n",
    "    'colsample_bytree': [0.5,0.75,1.0],\n",
    "    'max_depth': [1,2,5,10,20,50],\n",
    "    'learning_rate': [0.01,0.05,0.1,0.15,0.2],\n",
    "    'n_estimators': [2,5,10,20,50,100,200,500]\n",
    "}\n",
    "\n",
    "xgCV = XGBClassifier(silent=True, nthread=1)\n",
    "\n",
    "folds = 5\n",
    "param_comb=8\n",
    "\n",
    "random_search = RandomizedSearchCV(xgCV, param_distributions = tune_params, n_iter = param_comb, scoring = 'neg_log_loss', n_jobs=4, verbose=3)\n",
    "\n",
    "random_search.fit(X, y)"
   ]
  },
  {
   "cell_type": "code",
   "execution_count": 10,
   "metadata": {},
   "outputs": [
    {
     "data": {
      "text/plain": [
       "XGBClassifier(base_score=0.5, booster='gbtree', colsample_bylevel=1,\n",
       "       colsample_bynode=1, colsample_bytree=1.0, gamma=0.1, gpu_id=-1,\n",
       "       importance_type='gain', interaction_constraints='',\n",
       "       learning_rate=0.05, max_delta_step=0, max_depth=50,\n",
       "       min_child_weight=25, missing=nan, monotone_constraints='()',\n",
       "       n_estimators=100, n_jobs=1, nthread=1, num_parallel_tree=1,\n",
       "       objective='binary:logistic', random_state=0, reg_alpha=0,\n",
       "       reg_lambda=1, scale_pos_weight=1, silent=True, subsample=0.75,\n",
       "       tree_method='exact', validate_parameters=1, verbosity=None)"
      ]
     },
     "execution_count": 10,
     "metadata": {},
     "output_type": "execute_result"
    }
   ],
   "source": [
    "random_search.best_estimator_"
   ]
  },
  {
   "cell_type": "code",
   "execution_count": 11,
   "metadata": {},
   "outputs": [
    {
     "name": "stdout",
     "output_type": "stream",
     "text": [
      "[22:58:16] WARNING: C:\\Users\\Administrator\\workspace\\xgboost-win64_release_1.1.0\\src\\learner.cc:480: \n",
      "Parameters: { silent } might not be used.\n",
      "\n",
      "  This may not be accurate due to some parameters are only used in language bindings but\n",
      "  passed down to XGBoost core.  Or some parameters are not used but slip through this\n",
      "  verification. Please open an issue if you find above cases.\n",
      "\n",
      "\n"
     ]
    },
    {
     "name": "stderr",
     "output_type": "stream",
     "text": [
      "C:\\Users\\Gutwein\\Anaconda3\\lib\\site-packages\\sklearn\\preprocessing\\label.py:95: DataConversionWarning: A column-vector y was passed when a 1d array was expected. Please change the shape of y to (n_samples, ), for example using ravel().\n",
      "  y = column_or_1d(y, warn=True)\n",
      "C:\\Users\\Gutwein\\Anaconda3\\lib\\site-packages\\sklearn\\preprocessing\\label.py:128: DataConversionWarning: A column-vector y was passed when a 1d array was expected. Please change the shape of y to (n_samples, ), for example using ravel().\n",
      "  y = column_or_1d(y, warn=True)\n"
     ]
    },
    {
     "data": {
      "text/plain": [
       "0.5485518794541933"
      ]
     },
     "execution_count": 11,
     "metadata": {},
     "output_type": "execute_result"
    }
   ],
   "source": [
    "X_train, X_dev, y_train, y_dev = train_test_split(X, y)\n",
    "Mxgb = random_search.best_estimator_\n",
    "Mxgb.fit(X_train, y_train)\n",
    "preds = Mxgb.predict_proba(X_dev)\n",
    "log_loss(y_dev, preds[:,1])"
   ]
  },
  {
   "cell_type": "code",
   "execution_count": 12,
   "metadata": {},
   "outputs": [
    {
     "data": {
      "text/plain": [
       "array([0.05780034, 0.23822483, 0.16222268, 0.24814588, 0.29360625],\n",
       "      dtype=float32)"
      ]
     },
     "execution_count": 12,
     "metadata": {},
     "output_type": "execute_result"
    }
   ],
   "source": [
    "Mxgb.feature_importances_"
   ]
  },
  {
   "cell_type": "code",
   "execution_count": null,
   "metadata": {},
   "outputs": [],
   "source": []
  }
 ],
 "metadata": {
  "anaconda-cloud": {},
  "kernelspec": {
   "display_name": "Python 3",
   "language": "python",
   "name": "python3"
  },
  "language_info": {
   "codemirror_mode": {
    "name": "ipython",
    "version": 3
   },
   "file_extension": ".py",
   "mimetype": "text/x-python",
   "name": "python",
   "nbconvert_exporter": "python",
   "pygments_lexer": "ipython3",
   "version": "3.9.5"
  }
 },
 "nbformat": 4,
 "nbformat_minor": 2
}
